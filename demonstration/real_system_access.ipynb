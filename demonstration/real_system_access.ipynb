{
 "cells": [
  {
   "cell_type": "code",
   "execution_count": 1,
   "metadata": {},
   "outputs": [
    {
     "ename": "FileNotFoundError",
     "evalue": "[Errno 2] No such file or directory: 'latency.txt'",
     "output_type": "error",
     "traceback": [
      "\u001b[0;31m---------------------------------------------------------------------------\u001b[0m",
      "\u001b[0;31mFileNotFoundError\u001b[0m                         Traceback (most recent call last)",
      "Cell \u001b[0;32mIn[1], line 12\u001b[0m\n\u001b[1;32m      8\u001b[0m     latencies_2\u001b[39m.\u001b[39mappend([])\n\u001b[1;32m     10\u001b[0m latencies_mappish \u001b[39m=\u001b[39m []\n\u001b[0;32m---> 12\u001b[0m \u001b[39mwith\u001b[39;00m \u001b[39mopen\u001b[39;49m(\u001b[39m\"\u001b[39;49m\u001b[39mlatency.txt\u001b[39;49m\u001b[39m\"\u001b[39;49m, \u001b[39m\"\u001b[39;49m\u001b[39mr\u001b[39;49m\u001b[39m\"\u001b[39;49m) \u001b[39mas\u001b[39;00m f:\n\u001b[1;32m     13\u001b[0m     \u001b[39m# read until the file ends\u001b[39;00m\n\u001b[1;32m     14\u001b[0m     \u001b[39mwhile\u001b[39;00m \u001b[39mTrue\u001b[39;00m:\n\u001b[1;32m     15\u001b[0m         \u001b[39m# read a single line\u001b[39;00m\n\u001b[1;32m     16\u001b[0m         line \u001b[39m=\u001b[39m f\u001b[39m.\u001b[39mreadline()\n",
      "File \u001b[0;32m~/.local/lib/python3.10/site-packages/IPython/core/interactiveshell.py:282\u001b[0m, in \u001b[0;36m_modified_open\u001b[0;34m(file, *args, **kwargs)\u001b[0m\n\u001b[1;32m    275\u001b[0m \u001b[39mif\u001b[39;00m file \u001b[39min\u001b[39;00m {\u001b[39m0\u001b[39m, \u001b[39m1\u001b[39m, \u001b[39m2\u001b[39m}:\n\u001b[1;32m    276\u001b[0m     \u001b[39mraise\u001b[39;00m \u001b[39mValueError\u001b[39;00m(\n\u001b[1;32m    277\u001b[0m         \u001b[39mf\u001b[39m\u001b[39m\"\u001b[39m\u001b[39mIPython won\u001b[39m\u001b[39m'\u001b[39m\u001b[39mt let you open fd=\u001b[39m\u001b[39m{\u001b[39;00mfile\u001b[39m}\u001b[39;00m\u001b[39m by default \u001b[39m\u001b[39m\"\u001b[39m\n\u001b[1;32m    278\u001b[0m         \u001b[39m\"\u001b[39m\u001b[39mas it is likely to crash IPython. If you know what you are doing, \u001b[39m\u001b[39m\"\u001b[39m\n\u001b[1;32m    279\u001b[0m         \u001b[39m\"\u001b[39m\u001b[39myou can use builtins\u001b[39m\u001b[39m'\u001b[39m\u001b[39m open.\u001b[39m\u001b[39m\"\u001b[39m\n\u001b[1;32m    280\u001b[0m     )\n\u001b[0;32m--> 282\u001b[0m \u001b[39mreturn\u001b[39;00m io_open(file, \u001b[39m*\u001b[39;49margs, \u001b[39m*\u001b[39;49m\u001b[39m*\u001b[39;49mkwargs)\n",
      "\u001b[0;31mFileNotFoundError\u001b[0m: [Errno 2] No such file or directory: 'latency.txt'"
     ]
    }
   ],
   "source": [
    "# aggr1 230 506 292 220 356 357 258 222 282 427 276 365 271 279 478 573 311 301\n",
    "\n",
    "row_ctr = 0\n",
    "latencies_1 = []\n",
    "latencies_2 = []\n",
    "for i in range(128):\n",
    "    latencies_1.append([])\n",
    "    latencies_2.append([])\n",
    "\n",
    "latencies_mappish = []\n",
    "\n",
    "with open(\"latency.txt\", \"r\") as f:\n",
    "    # read until the file ends\n",
    "    while True:\n",
    "        # read a single line\n",
    "        line = f.readline()\n",
    "        if not line:\n",
    "            break\n",
    "        # if the line is empty, break\n",
    "        # split the line by spaces\n",
    "        tokens = line.split()\n",
    "        # the rest of the tokens are latencies\n",
    "        latencies = [int(x) for x in tokens[1:]]\n",
    "        if row_ctr % 2 == 0:\n",
    "            for i in range(128):\n",
    "                if not (i >= 1 and latencies[i] >= 250):\n",
    "                    latencies_1[i].append(latencies[i])\n",
    "                    latencies_mappish.append([i, latencies[i]])\n",
    "        else:\n",
    "            for i in range(128):\n",
    "                if not (i >= 1 and latencies[i] >= 250):\n",
    "                    latencies_2[i].append(latencies[i])\n",
    "\n",
    "        if row_ctr > 1000:\n",
    "            break \n",
    "        row_ctr += 1\n",
    "\n",
    "# divide each sum_latency element by row_ctr/2"
   ]
  },
  {
   "cell_type": "code",
   "execution_count": null,
   "metadata": {},
   "outputs": [],
   "source": [
    "# convert latencies_1 into pandas dataframe\n",
    "import pandas as pd\n",
    "df = pd.DataFrame(latencies_mappish)\n",
    "df.columns = ['request', 'latency']\n",
    "# rename requests larger than 0 to 'others'\n",
    "df.loc[df['request'] > 0, 'request'] = 'others'\n",
    "\n",
    "# randomly sample len(latencies_1[0]) entries from df where request is others and create a new df\n",
    "df2 = df.loc[df['request'] == 'others'].sample(n=len(latencies_1[0]), random_state=1)"
   ]
  },
  {
   "cell_type": "code",
   "execution_count": null,
   "metadata": {},
   "outputs": [
    {
     "data": {
      "text/html": [
       "<div>\n",
       "<style scoped>\n",
       "    .dataframe tbody tr th:only-of-type {\n",
       "        vertical-align: middle;\n",
       "    }\n",
       "\n",
       "    .dataframe tbody tr th {\n",
       "        vertical-align: top;\n",
       "    }\n",
       "\n",
       "    .dataframe thead th {\n",
       "        text-align: right;\n",
       "    }\n",
       "</style>\n",
       "<table border=\"1\" class=\"dataframe\">\n",
       "  <thead>\n",
       "    <tr style=\"text-align: right;\">\n",
       "      <th></th>\n",
       "      <th>request</th>\n",
       "      <th>latency</th>\n",
       "    </tr>\n",
       "  </thead>\n",
       "  <tbody>\n",
       "    <tr>\n",
       "      <th>0</th>\n",
       "      <td>0</td>\n",
       "      <td>240</td>\n",
       "    </tr>\n",
       "    <tr>\n",
       "      <th>127</th>\n",
       "      <td>0</td>\n",
       "      <td>682</td>\n",
       "    </tr>\n",
       "    <tr>\n",
       "      <th>190</th>\n",
       "      <td>0</td>\n",
       "      <td>242</td>\n",
       "    </tr>\n",
       "    <tr>\n",
       "      <th>316</th>\n",
       "      <td>0</td>\n",
       "      <td>234</td>\n",
       "    </tr>\n",
       "    <tr>\n",
       "      <th>443</th>\n",
       "      <td>0</td>\n",
       "      <td>221</td>\n",
       "    </tr>\n",
       "    <tr>\n",
       "      <th>...</th>\n",
       "      <td>...</td>\n",
       "      <td>...</td>\n",
       "    </tr>\n",
       "    <tr>\n",
       "      <th>62241</th>\n",
       "      <td>0</td>\n",
       "      <td>244</td>\n",
       "    </tr>\n",
       "    <tr>\n",
       "      <th>62367</th>\n",
       "      <td>0</td>\n",
       "      <td>248</td>\n",
       "    </tr>\n",
       "    <tr>\n",
       "      <th>62493</th>\n",
       "      <td>0</td>\n",
       "      <td>230</td>\n",
       "    </tr>\n",
       "    <tr>\n",
       "      <th>62619</th>\n",
       "      <td>0</td>\n",
       "      <td>236</td>\n",
       "    </tr>\n",
       "    <tr>\n",
       "      <th>62745</th>\n",
       "      <td>0</td>\n",
       "      <td>577</td>\n",
       "    </tr>\n",
       "  </tbody>\n",
       "</table>\n",
       "<p>501 rows × 2 columns</p>\n",
       "</div>"
      ],
      "text/plain": [
       "      request  latency\n",
       "0           0      240\n",
       "127         0      682\n",
       "190         0      242\n",
       "316         0      234\n",
       "443         0      221\n",
       "...       ...      ...\n",
       "62241       0      244\n",
       "62367       0      248\n",
       "62493       0      230\n",
       "62619       0      236\n",
       "62745       0      577\n",
       "\n",
       "[501 rows x 2 columns]"
      ]
     },
     "execution_count": 3,
     "metadata": {},
     "output_type": "execute_result"
    }
   ],
   "source": [
    "df[df['request'] == 0]"
   ]
  },
  {
   "cell_type": "code",
   "execution_count": null,
   "metadata": {},
   "outputs": [],
   "source": [
    "df.to_csv(\"check.csv\")"
   ]
  },
  {
   "cell_type": "code",
   "execution_count": 4,
   "metadata": {},
   "outputs": [
    {
     "name": "stdout",
     "output_type": "stream",
     "text": [
      "Average latency for accesses to the first cache block 260.8483033932136\n",
      "Average latency for accesses to other cache blocks 212.05189620758483\n"
     ]
    },
    {
     "data": {
      "image/png": "[encoded data removed]",
      "text/plain": [
       "<Figure size 1440x432 with 1 Axes>"
      ]
     },
     "metadata": {
      "needs_background": "light"
     },
     "output_type": "display_data"
    }
   ],
   "source": [
    "from matplotlib import pyplot as plt\n",
    "import seaborn as sns\n",
    "\n",
    "## draw figure for visual inspection purposes\n",
    "plt.style.use('seaborn-deep')\n",
    "plt.rcParams['figure.figsize'] = [20, 6]\n",
    "plt.rcParams.update({'font.size': 24})\n",
    "plt.yscale('log')\n",
    "plt.hist(df.loc[df['request'] == 0, 'latency'], bins=range(195,255,1), linewidth = 1, alpha = 0.8, edgecolor = 'black')\n",
    "plt.hist(df2.loc[df2['request'] == 'others', 'latency'], bins=range(195,255,1), linewidth = 1, alpha = 0.5, edgecolor = 'black')\n",
    "plt.legend(['First Cache Block','Subsequent Accesses to Other Cache Blocks'],loc='upper center', bbox_to_anchor=(0.5, 1.2), ncol=2)\n",
    "plt.xlabel(\"Latency (Cycles)\")\n",
    "plt.ylabel(\"Count\")\n",
    "\n",
    "# average latency where request is 0\n",
    "print(\"Average latency for accesses to the first cache block\", df.loc[(df['request'] == 0), 'latency'].mean())\n",
    "# average latency where request is others\n",
    "print(\"Average latency for accesses to other cache blocks\", df2.loc[df2['request'] == 'others', 'latency'].mean())"
   ]
  },
  {
   "cell_type": "code",
   "execution_count": null,
   "metadata": {},
   "outputs": [],
   "source": []
  }
 ],
 "metadata": {
  "kernelspec": {
   "display_name": "Python 3.6.9 64-bit",
   "language": "python",
   "name": "python3"
  },
  "language_info": {
   "codemirror_mode": {
    "name": "ipython",
    "version": 3
   },
   "file_extension": ".py",
   "mimetype": "text/x-python",
   "name": "python",
   "nbconvert_exporter": "python",
   "pygments_lexer": "ipython3",
   "version": "3.10.6"
  },
  "orig_nbformat": 4,
  "vscode": {
   "interpreter": {
    "hash": "31f2aee4e71d21fbe5cf8b01ff0e069b9275f58929596ceb00d14d90e3e16cd6"
   }
  }
 },
 "nbformat": 4,
 "nbformat_minor": 2
}
